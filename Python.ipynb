{
 "cells": [
  {
   "cell_type": "code",
   "execution_count": 106,
   "id": "f1c72395",
   "metadata": {},
   "outputs": [],
   "source": [
    "# Programmin:\n",
    "#     1. Procedural\n",
    "#     2. OOP"
   ]
  },
  {
   "cell_type": "code",
   "execution_count": 8,
   "id": "2fb50ba9",
   "metadata": {},
   "outputs": [
    {
     "name": "stdout",
     "output_type": "stream",
     "text": [
      "84\n"
     ]
    }
   ],
   "source": [
    "# procedural code\n",
    "a = 12\n",
    "b = 7\n",
    "\n",
    "multiple = a*b\n",
    "print(multiple)"
   ]
  },
  {
   "cell_type": "code",
   "execution_count": 9,
   "id": "df162724",
   "metadata": {},
   "outputs": [
    {
     "name": "stdout",
     "output_type": "stream",
     "text": [
      "I am constructor.\n",
      "I am just another method.\n"
     ]
    }
   ],
   "source": [
    "# object oriented programing\n",
    "class example:\n",
    "    def __init__(self):\n",
    "        print(\"I am constructor.\")\n",
    "    def methode2(self):\n",
    "        print(\"I am just another method.\")\n",
    "\n",
    "obj = example()\n",
    "obj.methode2()"
   ]
  },
  {
   "cell_type": "code",
   "execution_count": 1,
   "id": "fc2bdcb1",
   "metadata": {},
   "outputs": [
    {
     "name": "stdout",
     "output_type": "stream",
     "text": [
      "Hello!\n"
     ]
    }
   ],
   "source": [
    "print(\"Hello!\")"
   ]
  },
  {
   "cell_type": "markdown",
   "id": "4ef180ec",
   "metadata": {},
   "source": [
    "### 1.2 Input and output"
   ]
  },
  {
   "cell_type": "code",
   "execution_count": 10,
   "id": "e287f5ac",
   "metadata": {},
   "outputs": [
    {
     "name": "stdout",
     "output_type": "stream",
     "text": [
      "First code\n"
     ]
    }
   ],
   "source": [
    "  print(\"First code\")"
   ]
  },
  {
   "cell_type": "code",
   "execution_count": 11,
   "id": "f69ca992",
   "metadata": {},
   "outputs": [
    {
     "name": "stdout",
     "output_type": "stream",
     "text": [
      "First code\n"
     ]
    }
   ],
   "source": [
    "print('First code')"
   ]
  },
  {
   "cell_type": "code",
   "execution_count": 12,
   "id": "ee2a9a55",
   "metadata": {},
   "outputs": [
    {
     "name": "stdout",
     "output_type": "stream",
     "text": [
      "First code\n"
     ]
    }
   ],
   "source": [
    "print(\"\"\"First code\"\"\")"
   ]
  },
  {
   "cell_type": "code",
   "execution_count": 13,
   "id": "a59d8aaa",
   "metadata": {},
   "outputs": [
    {
     "name": "stdout",
     "output_type": "stream",
     "text": [
      " Value of var a is 12, value of var b is 7\n"
     ]
    }
   ],
   "source": [
    "print(f\"Value of var a is {a}, value of var b is {b}\")"
   ]
  },
  {
   "cell_type": "code",
   "execution_count": 14,
   "id": "96075628",
   "metadata": {},
   "outputs": [
    {
     "name": "stdout",
     "output_type": "stream",
     "text": [
      "a\n"
     ]
    },
    {
     "data": {
      "text/plain": [
       "'a'"
      ]
     },
     "execution_count": 14,
     "metadata": {},
     "output_type": "execute_result"
    }
   ],
   "source": [
    "input()"
   ]
  },
  {
   "cell_type": "code",
   "execution_count": 15,
   "id": "494057d5",
   "metadata": {},
   "outputs": [
    {
     "name": "stdout",
     "output_type": "stream",
     "text": [
      "Please enter your age!18\n"
     ]
    },
    {
     "data": {
      "text/plain": [
       "'18'"
      ]
     },
     "execution_count": 15,
     "metadata": {},
     "output_type": "execute_result"
    }
   ],
   "source": [
    "input(\"Please enter your age:\")"
   ]
  },
  {
   "cell_type": "code",
   "execution_count": 16,
   "id": "326c4478",
   "metadata": {},
   "outputs": [
    {
     "name": "stdout",
     "output_type": "stream",
     "text": [
      "Please enter your age:28\n"
     ]
    }
   ],
   "source": [
    "age_var = input(\"Please enter your age:\")"
   ]
  },
  {
   "cell_type": "code",
   "execution_count": 17,
   "id": "829e22be",
   "metadata": {},
   "outputs": [
    {
     "data": {
      "text/plain": [
       "'28'"
      ]
     },
     "execution_count": 17,
     "metadata": {},
     "output_type": "execute_result"
    }
   ],
   "source": [
    "age_var"
   ]
  },
  {
   "cell_type": "code",
   "execution_count": 18,
   "id": "a2be20b8",
   "metadata": {},
   "outputs": [
    {
     "name": "stdout",
     "output_type": "stream",
     "text": [
      "Please enter your age:26\n",
      "Your age is: 26\n"
     ]
    }
   ],
   "source": [
    "age_var = int(input(\"Please enter your age:\"))\n",
    "print(f\"Your age is: {age_var}\")"
   ]
  },
  {
   "cell_type": "code",
   "execution_count": 19,
   "id": "823e133c",
   "metadata": {},
   "outputs": [
    {
     "data": {
      "text/plain": [
       "int"
      ]
     },
     "execution_count": 19,
     "metadata": {},
     "output_type": "execute_result"
    }
   ],
   "source": [
    "type(age_var)"
   ]
  },
  {
   "cell_type": "markdown",
   "id": "2be61e54",
   "metadata": {},
   "source": [
    "#### Data types in Python\n",
    "    * Premitive\n",
    "        - String\n",
    "        - Int\n",
    "        - Float\n",
    "    * Non-Premitive\n",
    "        - List\n",
    "        - Tuples\n",
    "        - Sets\n",
    "        - Dictionaries"
   ]
  },
  {
   "cell_type": "code",
   "execution_count": 20,
   "id": "d7dab8d3",
   "metadata": {},
   "outputs": [
    {
     "name": "stdout",
     "output_type": "stream",
     "text": [
      "Hi, My name is Rahul.\n"
     ]
    }
   ],
   "source": [
    "string_var = \"Hi, My name is Rahul.\"\n",
    "print(string_var)"
   ]
  },
  {
   "cell_type": "code",
   "execution_count": 21,
   "id": "cfb5ff49",
   "metadata": {},
   "outputs": [
    {
     "data": {
      "text/plain": [
       "['Hi', ' My name is Rahul.']"
      ]
     },
     "execution_count": 21,
     "metadata": {},
     "output_type": "execute_result"
    }
   ],
   "source": [
    "string_var.split(\",\")"
   ]
  },
  {
   "cell_type": "code",
   "execution_count": 22,
   "id": "248dd52b",
   "metadata": {},
   "outputs": [
    {
     "data": {
      "text/plain": [
       "['Hi,', 'My', 'name', 'is', 'Rahul.']"
      ]
     },
     "execution_count": 22,
     "metadata": {},
     "output_type": "execute_result"
    }
   ],
   "source": [
    "string_var.split(\" \")"
   ]
  },
  {
   "cell_type": "code",
   "execution_count": 23,
   "id": "c36a6448",
   "metadata": {},
   "outputs": [
    {
     "data": {
      "text/plain": [
       "21"
      ]
     },
     "execution_count": 23,
     "metadata": {},
     "output_type": "execute_result"
    }
   ],
   "source": [
    "len(string_var)"
   ]
  },
  {
   "cell_type": "code",
   "execution_count": 25,
   "id": "1df5adcc",
   "metadata": {},
   "outputs": [
    {
     "data": {
      "text/plain": [
       "'i'"
      ]
     },
     "execution_count": 25,
     "metadata": {},
     "output_type": "execute_result"
    }
   ],
   "source": [
    "string_var[1:2] # n-1"
   ]
  },
  {
   "cell_type": "code",
   "execution_count": null,
   "id": "7f3e084b",
   "metadata": {},
   "outputs": [],
   "source": [
    "#string_var[start:till_hear(n-1):steps]"
   ]
  },
  {
   "cell_type": "code",
   "execution_count": 28,
   "id": "3d358058",
   "metadata": {},
   "outputs": [
    {
     "data": {
      "text/plain": [
       "'Rahul'"
      ]
     },
     "execution_count": 28,
     "metadata": {},
     "output_type": "execute_result"
    }
   ],
   "source": [
    "string_var[-6:-1]"
   ]
  },
  {
   "cell_type": "code",
   "execution_count": 29,
   "id": "89274058",
   "metadata": {},
   "outputs": [
    {
     "data": {
      "text/plain": [
       "'Rahul'"
      ]
     },
     "execution_count": 29,
     "metadata": {},
     "output_type": "execute_result"
    }
   ],
   "source": [
    "string_var[-6:-1:1]"
   ]
  },
  {
   "cell_type": "code",
   "execution_count": 32,
   "id": "fa4fef44",
   "metadata": {},
   "outputs": [
    {
     "data": {
      "text/plain": [
       "'luhaR'"
      ]
     },
     "execution_count": 32,
     "metadata": {},
     "output_type": "execute_result"
    }
   ],
   "source": [
    "string_var[-6:-1][::-1]"
   ]
  },
  {
   "cell_type": "code",
   "execution_count": 26,
   "id": "f37fac78",
   "metadata": {},
   "outputs": [
    {
     "data": {
      "text/plain": [
       "'.luhaR si eman yM ,iH'"
      ]
     },
     "execution_count": 26,
     "metadata": {},
     "output_type": "execute_result"
    }
   ],
   "source": [
    "string_var[::-1]"
   ]
  },
  {
   "cell_type": "code",
   "execution_count": 33,
   "id": "c29c8511",
   "metadata": {},
   "outputs": [
    {
     "data": {
      "text/plain": [
       "'Hi, My name is Rahul.'"
      ]
     },
     "execution_count": 33,
     "metadata": {},
     "output_type": "execute_result"
    }
   ],
   "source": [
    "string_var"
   ]
  },
  {
   "cell_type": "code",
   "execution_count": 34,
   "id": "64446e10",
   "metadata": {},
   "outputs": [
    {
     "data": {
      "text/plain": [
       "'H,M aei au.'"
      ]
     },
     "execution_count": 34,
     "metadata": {},
     "output_type": "execute_result"
    }
   ],
   "source": [
    "string_var[::2]"
   ]
  },
  {
   "cell_type": "code",
   "execution_count": 35,
   "id": "09622460",
   "metadata": {},
   "outputs": [
    {
     "data": {
      "text/plain": [
       "'Rhl'"
      ]
     },
     "execution_count": 35,
     "metadata": {},
     "output_type": "execute_result"
    }
   ],
   "source": [
    "string_var[-6:-1:2]"
   ]
  },
  {
   "cell_type": "code",
   "execution_count": 37,
   "id": "c79714ba",
   "metadata": {},
   "outputs": [
    {
     "data": {
      "text/plain": [
       "'hi, my name is rahul.'"
      ]
     },
     "execution_count": 37,
     "metadata": {},
     "output_type": "execute_result"
    }
   ],
   "source": [
    "string_var.lower()"
   ]
  },
  {
   "cell_type": "code",
   "execution_count": 39,
   "id": "377cc889",
   "metadata": {},
   "outputs": [
    {
     "data": {
      "text/plain": [
       "'HI, MY NAME IS RAHUL.'"
      ]
     },
     "execution_count": 39,
     "metadata": {},
     "output_type": "execute_result"
    }
   ],
   "source": [
    "string_var.upper()"
   ]
  },
  {
   "cell_type": "code",
   "execution_count": 40,
   "id": "25fa682a",
   "metadata": {},
   "outputs": [
    {
     "data": {
      "text/plain": [
       "'Hi, my name is rahul.'"
      ]
     },
     "execution_count": 40,
     "metadata": {},
     "output_type": "execute_result"
    }
   ],
   "source": [
    "string_var.capitalize()"
   ]
  },
  {
   "cell_type": "code",
   "execution_count": 41,
   "id": "7754ba3a",
   "metadata": {},
   "outputs": [
    {
     "data": {
      "text/plain": [
       "False"
      ]
     },
     "execution_count": 41,
     "metadata": {},
     "output_type": "execute_result"
    }
   ],
   "source": [
    "string_var.isalnum()"
   ]
  },
  {
   "cell_type": "markdown",
   "id": "04813e76",
   "metadata": {},
   "source": [
    "##### List"
   ]
  },
  {
   "cell_type": "code",
   "execution_count": 72,
   "id": "bc10506e",
   "metadata": {},
   "outputs": [
    {
     "data": {
      "text/plain": [
       "['a', 2, False, 'something more']"
      ]
     },
     "execution_count": 72,
     "metadata": {},
     "output_type": "execute_result"
    }
   ],
   "source": [
    "# Array\n",
    "list_var = ['a',2,False,'something more']\n",
    "list_var"
   ]
  },
  {
   "cell_type": "code",
   "execution_count": 113,
   "id": "4526e293",
   "metadata": {},
   "outputs": [
    {
     "data": {
      "text/plain": [
       "[1, 2, 4, 'str', True, [False, 2, 'a']]"
      ]
     },
     "execution_count": 113,
     "metadata": {},
     "output_type": "execute_result"
    }
   ],
   "source": [
    "list_var2 = [1,2,4,'str',True,list_var]\n",
    "list_var2"
   ]
  },
  {
   "cell_type": "code",
   "execution_count": 74,
   "id": "1e28859e",
   "metadata": {},
   "outputs": [
    {
     "data": {
      "text/plain": [
       "['a', 2, False, 'something more', 5]"
      ]
     },
     "execution_count": 74,
     "metadata": {},
     "output_type": "execute_result"
    }
   ],
   "source": [
    "list_var.append(5)\n",
    "list_var"
   ]
  },
  {
   "cell_type": "code",
   "execution_count": 75,
   "id": "cad93870",
   "metadata": {},
   "outputs": [
    {
     "data": {
      "text/plain": [
       "1"
      ]
     },
     "execution_count": 75,
     "metadata": {},
     "output_type": "execute_result"
    }
   ],
   "source": [
    "list_var.count(5)"
   ]
  },
  {
   "cell_type": "code",
   "execution_count": 76,
   "id": "4bfea007",
   "metadata": {},
   "outputs": [
    {
     "data": {
      "text/plain": [
       "2"
      ]
     },
     "execution_count": 76,
     "metadata": {},
     "output_type": "execute_result"
    }
   ],
   "source": [
    "list_var.index(False)"
   ]
  },
  {
   "cell_type": "code",
   "execution_count": 77,
   "id": "1287a349",
   "metadata": {},
   "outputs": [],
   "source": [
    "list_var.remove(5)"
   ]
  },
  {
   "cell_type": "code",
   "execution_count": 78,
   "id": "73e03bce",
   "metadata": {},
   "outputs": [
    {
     "data": {
      "text/plain": [
       "['a', 2, False, 'something more']"
      ]
     },
     "execution_count": 78,
     "metadata": {},
     "output_type": "execute_result"
    }
   ],
   "source": [
    "list_var"
   ]
  },
  {
   "cell_type": "code",
   "execution_count": 79,
   "id": "d64365e1",
   "metadata": {},
   "outputs": [
    {
     "data": {
      "text/plain": [
       "'something more'"
      ]
     },
     "execution_count": 79,
     "metadata": {},
     "output_type": "execute_result"
    }
   ],
   "source": [
    "list_var.pop()"
   ]
  },
  {
   "cell_type": "code",
   "execution_count": 80,
   "id": "26d94bfa",
   "metadata": {},
   "outputs": [
    {
     "data": {
      "text/plain": [
       "['a', 2, False]"
      ]
     },
     "execution_count": 80,
     "metadata": {},
     "output_type": "execute_result"
    }
   ],
   "source": [
    "list_var"
   ]
  },
  {
   "cell_type": "code",
   "execution_count": 81,
   "id": "9e2b85f6",
   "metadata": {},
   "outputs": [],
   "source": [
    "list_var.reverse()"
   ]
  },
  {
   "cell_type": "code",
   "execution_count": 82,
   "id": "182d5d4f",
   "metadata": {},
   "outputs": [
    {
     "data": {
      "text/plain": [
       "[False, 2, 'a']"
      ]
     },
     "execution_count": 82,
     "metadata": {},
     "output_type": "execute_result"
    }
   ],
   "source": [
    "list_var"
   ]
  },
  {
   "cell_type": "code",
   "execution_count": 112,
   "id": "3373d39c",
   "metadata": {},
   "outputs": [
    {
     "data": {
      "text/plain": [
       "[]"
      ]
     },
     "execution_count": 112,
     "metadata": {},
     "output_type": "execute_result"
    }
   ],
   "source": [
    "list_var2"
   ]
  },
  {
   "cell_type": "code",
   "execution_count": 84,
   "id": "af8e19c0",
   "metadata": {},
   "outputs": [],
   "source": [
    "list_var2.clear()"
   ]
  },
  {
   "cell_type": "code",
   "execution_count": 85,
   "id": "c8288f51",
   "metadata": {},
   "outputs": [
    {
     "data": {
      "text/plain": [
       "[]"
      ]
     },
     "execution_count": 85,
     "metadata": {},
     "output_type": "execute_result"
    }
   ],
   "source": [
    "list_var2"
   ]
  },
  {
   "cell_type": "code",
   "execution_count": 86,
   "id": "e72fb95d",
   "metadata": {},
   "outputs": [
    {
     "data": {
      "text/plain": [
       "list"
      ]
     },
     "execution_count": 86,
     "metadata": {},
     "output_type": "execute_result"
    }
   ],
   "source": [
    "type(list_var2)"
   ]
  },
  {
   "cell_type": "code",
   "execution_count": 114,
   "id": "20fedd76",
   "metadata": {},
   "outputs": [
    {
     "data": {
      "text/plain": [
       "[1, 2, 4, 'str', True, [False, 2, 'a']]"
      ]
     },
     "execution_count": 114,
     "metadata": {},
     "output_type": "execute_result"
    }
   ],
   "source": [
    "list_var2"
   ]
  },
  {
   "cell_type": "code",
   "execution_count": 115,
   "id": "2ac57d91",
   "metadata": {},
   "outputs": [
    {
     "data": {
      "text/plain": [
       "[1]"
      ]
     },
     "execution_count": 115,
     "metadata": {},
     "output_type": "execute_result"
    }
   ],
   "source": [
    "list_var2[0:1]"
   ]
  },
  {
   "cell_type": "code",
   "execution_count": 116,
   "id": "3bf25253",
   "metadata": {},
   "outputs": [
    {
     "data": {
      "text/plain": [
       "[False, 2, 'a']"
      ]
     },
     "execution_count": 116,
     "metadata": {},
     "output_type": "execute_result"
    }
   ],
   "source": [
    "list_var2[-1]"
   ]
  },
  {
   "cell_type": "code",
   "execution_count": 117,
   "id": "6535eb37",
   "metadata": {},
   "outputs": [
    {
     "data": {
      "text/plain": [
       "[2, 'str']"
      ]
     },
     "execution_count": 117,
     "metadata": {},
     "output_type": "execute_result"
    }
   ],
   "source": [
    "list_var2[1:4:2]"
   ]
  },
  {
   "cell_type": "markdown",
   "id": "10fcc32b",
   "metadata": {},
   "source": [
    "##### Tuple"
   ]
  },
  {
   "cell_type": "code",
   "execution_count": 65,
   "id": "cc178f99",
   "metadata": {},
   "outputs": [],
   "source": [
    "tuple_var = ('a',2,False,'something more')"
   ]
  },
  {
   "cell_type": "code",
   "execution_count": 66,
   "id": "1089b356",
   "metadata": {},
   "outputs": [
    {
     "data": {
      "text/plain": [
       "('a', 2, False, 'something more')"
      ]
     },
     "execution_count": 66,
     "metadata": {},
     "output_type": "execute_result"
    }
   ],
   "source": [
    "tuple_var"
   ]
  },
  {
   "cell_type": "code",
   "execution_count": 67,
   "id": "6a234dfd",
   "metadata": {},
   "outputs": [
    {
     "data": {
      "text/plain": [
       "tuple"
      ]
     },
     "execution_count": 67,
     "metadata": {},
     "output_type": "execute_result"
    }
   ],
   "source": [
    "type(tuple_var)"
   ]
  },
  {
   "cell_type": "code",
   "execution_count": 68,
   "id": "2fa1557c",
   "metadata": {},
   "outputs": [
    {
     "ename": "AttributeError",
     "evalue": "'tuple' object has no attribute 'append'",
     "output_type": "error",
     "traceback": [
      "\u001b[1;31m---------------------------------------------------------------------------\u001b[0m",
      "\u001b[1;31mAttributeError\u001b[0m                            Traceback (most recent call last)",
      "\u001b[1;32m~\\AppData\\Local\\Temp/ipykernel_13524/372556258.py\u001b[0m in \u001b[0;36m<module>\u001b[1;34m\u001b[0m\n\u001b[1;32m----> 1\u001b[1;33m \u001b[0mtuple_var\u001b[0m\u001b[1;33m.\u001b[0m\u001b[0mappend\u001b[0m\u001b[1;33m(\u001b[0m\u001b[1;34m'a'\u001b[0m\u001b[1;33m)\u001b[0m \u001b[1;31m# you cannot modify a tuple\u001b[0m\u001b[1;33m\u001b[0m\u001b[1;33m\u001b[0m\u001b[0m\n\u001b[0m",
      "\u001b[1;31mAttributeError\u001b[0m: 'tuple' object has no attribute 'append'"
     ]
    }
   ],
   "source": [
    "tuple_var.append('a') # you cannot modify a tuple"
   ]
  },
  {
   "cell_type": "code",
   "execution_count": 69,
   "id": "5f022836",
   "metadata": {},
   "outputs": [
    {
     "data": {
      "text/plain": [
       "1"
      ]
     },
     "execution_count": 69,
     "metadata": {},
     "output_type": "execute_result"
    }
   ],
   "source": [
    "tuple_var.count(2)"
   ]
  },
  {
   "cell_type": "code",
   "execution_count": 71,
   "id": "2e4ef804",
   "metadata": {},
   "outputs": [
    {
     "data": {
      "text/plain": [
       "2"
      ]
     },
     "execution_count": 71,
     "metadata": {},
     "output_type": "execute_result"
    }
   ],
   "source": [
    "tuple_var.index(False)"
   ]
  },
  {
   "cell_type": "code",
   "execution_count": 87,
   "id": "03a6feca",
   "metadata": {},
   "outputs": [
    {
     "data": {
      "text/plain": [
       "('a', 'a', 1, 2, 3, 1)"
      ]
     },
     "execution_count": 87,
     "metadata": {},
     "output_type": "execute_result"
    }
   ],
   "source": [
    "tuple_var2 = ('a','a',1,2,3,1)\n",
    "tuple_var2"
   ]
  },
  {
   "cell_type": "code",
   "execution_count": 118,
   "id": "596081c4",
   "metadata": {},
   "outputs": [
    {
     "data": {
      "text/plain": [
       "1"
      ]
     },
     "execution_count": 118,
     "metadata": {},
     "output_type": "execute_result"
    }
   ],
   "source": [
    "tuple_var2[-1]"
   ]
  },
  {
   "cell_type": "markdown",
   "id": "51aa3d1f",
   "metadata": {},
   "source": [
    "##### Set"
   ]
  },
  {
   "cell_type": "code",
   "execution_count": 88,
   "id": "24e38478",
   "metadata": {},
   "outputs": [
    {
     "data": {
      "text/plain": [
       "{1, 2, 3, 5, 6, 7, False, 'a'}"
      ]
     },
     "execution_count": 88,
     "metadata": {},
     "output_type": "execute_result"
    }
   ],
   "source": [
    "set_var = {'a','a',1,2,3,1,False,5,6,7}\n",
    "set_var"
   ]
  },
  {
   "cell_type": "code",
   "execution_count": 89,
   "id": "6feddc85",
   "metadata": {},
   "outputs": [
    {
     "data": {
      "text/plain": [
       "{1, 2, 3, 5, 6, 7, 9, False, 'a'}"
      ]
     },
     "execution_count": 89,
     "metadata": {},
     "output_type": "execute_result"
    }
   ],
   "source": [
    "set_var.add(9)\n",
    "set_var"
   ]
  },
  {
   "cell_type": "code",
   "execution_count": 90,
   "id": "90259236",
   "metadata": {},
   "outputs": [],
   "source": [
    "set_var2 = {0,1,5,2,8,6,'a','b','c'}"
   ]
  },
  {
   "cell_type": "code",
   "execution_count": 92,
   "id": "d2535f70",
   "metadata": {},
   "outputs": [
    {
     "data": {
      "text/plain": [
       "{3, 7, 9}"
      ]
     },
     "execution_count": 92,
     "metadata": {},
     "output_type": "execute_result"
    }
   ],
   "source": [
    "set_var.difference(set_var2) # difference between sets"
   ]
  },
  {
   "cell_type": "markdown",
   "id": "eaf346d3",
   "metadata": {},
   "source": [
    "##### Dictionary"
   ]
  },
  {
   "cell_type": "code",
   "execution_count": 94,
   "id": "afb0029f",
   "metadata": {},
   "outputs": [
    {
     "data": {
      "text/plain": [
       "{'a': 1, 'b': 2, 'd': 4, 'e': 5, 'c': 3}"
      ]
     },
     "execution_count": 94,
     "metadata": {},
     "output_type": "execute_result"
    }
   ],
   "source": [
    "dict_var = {'a':1,'b':2,'d':4,'e':5,'c':3}\n",
    "dict_var"
   ]
  },
  {
   "cell_type": "code",
   "execution_count": 95,
   "id": "d7c05f4f",
   "metadata": {},
   "outputs": [
    {
     "data": {
      "text/plain": [
       "dict_keys(['a', 'b', 'd', 'e', 'c'])"
      ]
     },
     "execution_count": 95,
     "metadata": {},
     "output_type": "execute_result"
    }
   ],
   "source": [
    "dict_var.keys()"
   ]
  },
  {
   "cell_type": "code",
   "execution_count": 96,
   "id": "650f2dcc",
   "metadata": {},
   "outputs": [
    {
     "data": {
      "text/plain": [
       "dict_values([1, 2, 4, 5, 3])"
      ]
     },
     "execution_count": 96,
     "metadata": {},
     "output_type": "execute_result"
    }
   ],
   "source": [
    "dict_var.values()"
   ]
  },
  {
   "cell_type": "code",
   "execution_count": 99,
   "id": "c8c40a1d",
   "metadata": {},
   "outputs": [],
   "source": [
    "dict_var['f'] = 6"
   ]
  },
  {
   "cell_type": "code",
   "execution_count": 100,
   "id": "dcb9ba99",
   "metadata": {},
   "outputs": [
    {
     "data": {
      "text/plain": [
       "{'a': 1, 'b': 2, 'd': 4, 'e': 5, 'c': 3, 'f': 6}"
      ]
     },
     "execution_count": 100,
     "metadata": {},
     "output_type": "execute_result"
    }
   ],
   "source": [
    "dict_var"
   ]
  },
  {
   "cell_type": "code",
   "execution_count": 105,
   "id": "f120ad8e",
   "metadata": {},
   "outputs": [
    {
     "data": {
      "text/plain": [
       "['a', 'b', 'c', 'd', 'e', 'f']"
      ]
     },
     "execution_count": 105,
     "metadata": {},
     "output_type": "execute_result"
    }
   ],
   "source": [
    "sorted(dict_var)"
   ]
  },
  {
   "cell_type": "code",
   "execution_count": 121,
   "id": "685f4c8a",
   "metadata": {},
   "outputs": [
    {
     "data": {
      "text/plain": [
       "5"
      ]
     },
     "execution_count": 121,
     "metadata": {},
     "output_type": "execute_result"
    }
   ],
   "source": [
    "dict_var['e']"
   ]
  },
  {
   "cell_type": "code",
   "execution_count": 123,
   "id": "0f53c4c4",
   "metadata": {},
   "outputs": [
    {
     "ename": "KeyError",
     "evalue": "-1",
     "output_type": "error",
     "traceback": [
      "\u001b[1;31m---------------------------------------------------------------------------\u001b[0m",
      "\u001b[1;31mKeyError\u001b[0m                                  Traceback (most recent call last)",
      "\u001b[1;32m~\\AppData\\Local\\Temp/ipykernel_13524/1160747063.py\u001b[0m in \u001b[0;36m<module>\u001b[1;34m\u001b[0m\n\u001b[1;32m----> 1\u001b[1;33m \u001b[0mdict_var\u001b[0m\u001b[1;33m[\u001b[0m\u001b[1;33m-\u001b[0m\u001b[1;36m1\u001b[0m\u001b[1;33m]\u001b[0m \u001b[1;31m# cannot be sliced\u001b[0m\u001b[1;33m\u001b[0m\u001b[1;33m\u001b[0m\u001b[0m\n\u001b[0m",
      "\u001b[1;31mKeyError\u001b[0m: -1"
     ]
    }
   ],
   "source": [
    "dict_var[-1] # cannot be sliced"
   ]
  },
  {
   "cell_type": "markdown",
   "id": "969659d4",
   "metadata": {},
   "source": [
    "### Conditional statement"
   ]
  },
  {
   "cell_type": "code",
   "execution_count": 1,
   "id": "84b10df4",
   "metadata": {},
   "outputs": [],
   "source": [
    "# if else\n",
    "# if else ledder\n",
    "# switch case"
   ]
  },
  {
   "cell_type": "code",
   "execution_count": 2,
   "id": "08c93939",
   "metadata": {},
   "outputs": [],
   "source": [
    "rahul = 28\n",
    "amit = 32"
   ]
  },
  {
   "cell_type": "code",
   "execution_count": 3,
   "id": "57230e58",
   "metadata": {},
   "outputs": [
    {
     "name": "stdout",
     "output_type": "stream",
     "text": [
      "Amit is older than Rahul.\n"
     ]
    }
   ],
   "source": [
    "if rahul > amit:\n",
    "    print(\"Rahul is older than Amit.\")\n",
    "else:\n",
    "    print(\"Amit is older than Rahul.\")"
   ]
  },
  {
   "cell_type": "code",
   "execution_count": 8,
   "id": "f1be6404",
   "metadata": {},
   "outputs": [],
   "source": [
    "rohit = 22"
   ]
  },
  {
   "cell_type": "code",
   "execution_count": 9,
   "id": "9a877e8b",
   "metadata": {},
   "outputs": [
    {
     "name": "stdout",
     "output_type": "stream",
     "text": [
      "Amit is oldest.\n"
     ]
    }
   ],
   "source": [
    "if (rahul > amit) and (rahul > rohit):\n",
    "    print(\"Rahul is oldest.\")\n",
    "elif (amit > rahul) and (amit > rohit):\n",
    "    print(\"Amit is oldest.\")\n",
    "else:\n",
    "    print(\"Rohit is oldest.\")"
   ]
  },
  {
   "cell_type": "code",
   "execution_count": 11,
   "id": "1b819770",
   "metadata": {},
   "outputs": [
    {
     "name": "stdout",
     "output_type": "stream",
     "text": [
      "Amit is older than Rahul\n",
      "Rahul is older than Rohit\n",
      "Amit is older than Rohit\n"
     ]
    }
   ],
   "source": [
    "# who is older than whom\n",
    "if rahul > amit:\n",
    "    print(\"Rahul is older than Amit\")\n",
    "if amit > rahul:\n",
    "    print(\"Amit is older than Rahul\")\n",
    "if rahul > rohit:\n",
    "    print(\"Rahul is older than Rohit\")\n",
    "if rohit > rahul:\n",
    "    print(\"Rohit is older than Rahul\")\n",
    "if amit > rohit:\n",
    "    print(\"Amit is older than Rohit\")\n",
    "if rohit > amit:\n",
    "    print(\"Rohit is older than Amit\")"
   ]
  },
  {
   "cell_type": "code",
   "execution_count": 12,
   "id": "8c2717c7",
   "metadata": {},
   "outputs": [
    {
     "ename": "NameError",
     "evalue": "name 'switch' is not defined",
     "output_type": "error",
     "traceback": [
      "\u001b[1;31m---------------------------------------------------------------------------\u001b[0m",
      "\u001b[1;31mNameError\u001b[0m                                 Traceback (most recent call last)",
      "\u001b[1;32m~\\AppData\\Local\\Temp/ipykernel_8156/510967115.py\u001b[0m in \u001b[0;36m<module>\u001b[1;34m\u001b[0m\n\u001b[1;32m----> 1\u001b[1;33m \u001b[0mswitch\u001b[0m\u001b[1;33m(\u001b[0m\u001b[0mrahul\u001b[0m\u001b[1;33m)\u001b[0m\u001b[1;33m\u001b[0m\u001b[1;33m\u001b[0m\u001b[0m\n\u001b[0m",
      "\u001b[1;31mNameError\u001b[0m: name 'switch' is not defined"
     ]
    }
   ],
   "source": [
    "# switch case is not supported in python\n",
    "switch(rahul)"
   ]
  },
  {
   "cell_type": "markdown",
   "id": "e7a218b6",
   "metadata": {},
   "source": [
    "### Control statements\n",
    "    For\n",
    "    While"
   ]
  },
  {
   "cell_type": "code",
   "execution_count": 14,
   "id": "10a6aac9",
   "metadata": {},
   "outputs": [
    {
     "data": {
      "text/plain": [
       "range"
      ]
     },
     "execution_count": 14,
     "metadata": {},
     "output_type": "execute_result"
    }
   ],
   "source": [
    "range"
   ]
  },
  {
   "cell_type": "code",
   "execution_count": 18,
   "id": "44297de8",
   "metadata": {},
   "outputs": [
    {
     "name": "stdout",
     "output_type": "stream",
     "text": [
      "0\n",
      "1\n",
      "2\n",
      "3\n",
      "4\n",
      "5\n",
      "6\n",
      "7\n",
      "8\n",
      "9\n"
     ]
    }
   ],
   "source": [
    "# range - prodces numeric sequence.\n",
    "# defination - range(starting number, stopping number (exclusive), steps (defualt is 1))\n",
    "for i in range(0,10,1):\n",
    "    print(i)"
   ]
  },
  {
   "cell_type": "code",
   "execution_count": 19,
   "id": "4f64884e",
   "metadata": {},
   "outputs": [
    {
     "name": "stdout",
     "output_type": "stream",
     "text": [
      "0\n",
      "1\n",
      "2\n",
      "3\n",
      "4\n",
      "5\n",
      "6\n",
      "7\n",
      "8\n",
      "9\n"
     ]
    }
   ],
   "source": [
    "for i in range(0,10):\n",
    "    print(i)"
   ]
  },
  {
   "cell_type": "code",
   "execution_count": 17,
   "id": "965695e3",
   "metadata": {
    "collapsed": true
   },
   "outputs": [
    {
     "name": "stdout",
     "output_type": "stream",
     "text": [
      "0\n",
      "2\n",
      "4\n",
      "6\n",
      "8\n"
     ]
    }
   ],
   "source": [
    "for i in range(0,10,2):\n",
    "    print(i)"
   ]
  },
  {
   "cell_type": "code",
   "execution_count": 24,
   "id": "0b1789da",
   "metadata": {
    "scrolled": true
   },
   "outputs": [
    {
     "name": "stdout",
     "output_type": "stream",
     "text": [
      "14\n",
      "28\n",
      "42\n",
      "56\n",
      "70\n",
      "84\n",
      "98\n",
      "112\n",
      "126\n",
      "140\n"
     ]
    }
   ],
   "source": [
    "# print table of 14\n",
    "for i in range(1,11,1):\n",
    "    print(14*i)"
   ]
  },
  {
   "cell_type": "code",
   "execution_count": 21,
   "id": "e19bc8dd",
   "metadata": {},
   "outputs": [],
   "source": [
    "ex_lst = [2,4,1,5,7,3,8,12,34,67,13,78,89, 11]"
   ]
  },
  {
   "cell_type": "code",
   "execution_count": 27,
   "id": "388f3ce2",
   "metadata": {},
   "outputs": [
    {
     "name": "stdout",
     "output_type": "stream",
     "text": [
      "2\n",
      "4\n",
      "1\n",
      "5\n",
      "7\n",
      "3\n",
      "8\n",
      "12\n",
      "34\n",
      "67\n",
      "13\n",
      "78\n",
      "89\n"
     ]
    }
   ],
   "source": [
    "for item in ex_lst:\n",
    "    print(item)"
   ]
  },
  {
   "cell_type": "code",
   "execution_count": 28,
   "id": "c925fa9c",
   "metadata": {},
   "outputs": [
    {
     "name": "stdout",
     "output_type": "stream",
     "text": [
      "2 is Even number\n",
      "4 is Even number\n",
      "1 is Odd number\n",
      "5 is Odd number\n",
      "7 is Odd number\n",
      "3 is Odd number\n",
      "8 is Even number\n",
      "12 is Even number\n",
      "34 is Even number\n",
      "67 is Odd number\n",
      "13 is Odd number\n",
      "78 is Even number\n",
      "89 is Odd number\n"
     ]
    }
   ],
   "source": [
    "# if the number is odd, even, prime\n",
    "for num in ex_lst:\n",
    "    if num % 2 == 0:\n",
    "        print(f\"{num} is Even number\")\n",
    "    elif num % 2 != 0:\n",
    "        print(f'{num} is Odd number')"
   ]
  },
  {
   "cell_type": "code",
   "execution_count": 34,
   "id": "2386b7c5",
   "metadata": {},
   "outputs": [
    {
     "name": "stdout",
     "output_type": "stream",
     "text": [
      "2\n",
      "3\n",
      "4\n",
      "5\n",
      "6\n",
      "7\n"
     ]
    }
   ],
   "source": [
    "for i in range(2,8,1):\n",
    "    print(i)"
   ]
  },
  {
   "cell_type": "code",
   "execution_count": 35,
   "id": "71655445",
   "metadata": {},
   "outputs": [
    {
     "data": {
      "text/plain": [
       "[2, 4, 1, 5, 7, 3, 8, 12, 34, 67, 13, 78, 89]"
      ]
     },
     "execution_count": 35,
     "metadata": {},
     "output_type": "execute_result"
    }
   ],
   "source": [
    "ex_lst"
   ]
  },
  {
   "cell_type": "code",
   "execution_count": 40,
   "id": "9606b33e",
   "metadata": {},
   "outputs": [
    {
     "name": "stdout",
     "output_type": "stream",
     "text": [
      "2\n",
      "3\n",
      "4\n"
     ]
    }
   ],
   "source": [
    "for i in range(2,5,1):\n",
    "    print(i)"
   ]
  },
  {
   "cell_type": "code",
   "execution_count": 44,
   "id": "ce7b0e7f",
   "metadata": {},
   "outputs": [
    {
     "data": {
      "text/plain": [
       "'question: check if 7 is a prime number?\\nSolution: check if 7 is devisible by any numbers between 1 and itself (7) i.e. 2,3,4,5,6.\\n          if the number is devisible by any in between numbers then the is not a prime number.\\n          else it is a prime number'"
      ]
     },
     "execution_count": 44,
     "metadata": {},
     "output_type": "execute_result"
    }
   ],
   "source": [
    "\"\"\"question: check if 7 is a prime number?\n",
    "Solution: check if 7 is devisible by any numbers between 1 and itself (7) i.e. 2,3,4,5,6.\n",
    "          if the number is devisible by any in between numbers then the is not a prime number.\n",
    "          else it is a prime number\"\"\""
   ]
  },
  {
   "cell_type": "code",
   "execution_count": 41,
   "id": "4e286dc2",
   "metadata": {},
   "outputs": [],
   "source": [
    "def checkprime(n):\n",
    "    prime_flag = False\n",
    "    if n > 1:\n",
    "        for i in range(2,n):\n",
    "            if (n % i) == 0:\n",
    "                prime_flag = True\n",
    "                break\n",
    "    if prime_flag:\n",
    "        print(f\"{n} is not a prime number.\")\n",
    "    else:\n",
    "        print(f\"{n} is a prime number.\")"
   ]
  },
  {
   "cell_type": "code",
   "execution_count": 43,
   "id": "65b5a750",
   "metadata": {},
   "outputs": [
    {
     "name": "stdout",
     "output_type": "stream",
     "text": [
      "5 is a prime number.\n"
     ]
    }
   ],
   "source": [
    "checkprime(5)"
   ]
  },
  {
   "cell_type": "code",
   "execution_count": 32,
   "id": "d41823e3",
   "metadata": {},
   "outputs": [
    {
     "name": "stdout",
     "output_type": "stream",
     "text": [
      "2 is a prime number.\n",
      "4 is not a prime number.\n",
      "1 is a prime number.\n",
      "5 is a prime number.\n",
      "7 is a prime number.\n",
      "3 is a prime number.\n",
      "8 is not a prime number.\n",
      "12 is not a prime number.\n",
      "34 is not a prime number.\n",
      "67 is a prime number.\n",
      "13 is a prime number.\n",
      "78 is not a prime number.\n",
      "89 is a prime number.\n"
     ]
    }
   ],
   "source": [
    "# check for prime numers in the list\n",
    "for num in ex_lst: # looping through the list (accessing each item from list)\n",
    "    prime_flag = 0 # creating a flag for prime check\n",
    "    if num == 1:\n",
    "        #print(f\"{num} is a prime number.\")\n",
    "        pass # pass is required if body of a statement is blank\n",
    "    else:\n",
    "        for i in range(2,num,1): # starting from 2 and then going n-1 \n",
    "            if (num % i) == 0:\n",
    "                prime_flag = 1\n",
    "                break\n",
    "    if prime_flag:\n",
    "        print(f\"{num} is not a prime number.\")\n",
    "    else:\n",
    "        print(f\"{num} is a prime number.\")"
   ]
  },
  {
   "cell_type": "code",
   "execution_count": 45,
   "id": "22cf073b",
   "metadata": {},
   "outputs": [],
   "source": [
    "ex_dict = {1:'mumbai', 2:'Pune', 3:'Delhi', 4:'Chennai',5:'banglore'}"
   ]
  },
  {
   "cell_type": "code",
   "execution_count": 48,
   "id": "f83e0b15",
   "metadata": {},
   "outputs": [
    {
     "name": "stdout",
     "output_type": "stream",
     "text": [
      "1 mumbai\n",
      "2 Pune\n",
      "3 Delhi\n",
      "4 Chennai\n",
      "5 banglore\n"
     ]
    }
   ],
   "source": [
    "#can we directly loop a dictionary\n",
    "for i in ex_dict:\n",
    "    print(i, ex_dict[i])"
   ]
  },
  {
   "cell_type": "code",
   "execution_count": 52,
   "id": "68357e24",
   "metadata": {},
   "outputs": [
    {
     "name": "stdout",
     "output_type": "stream",
     "text": [
      "sample list: [2, 4, 1, 5, 7, 3, 8, 12, 34, 67, 13, 78, 89]\n",
      "squared list: [4, 16, 1, 25, 49, 9, 64, 144, 1156, 4489, 169, 6084, 7921]\n"
     ]
    }
   ],
   "source": [
    "# gerate a list of squared values from a given list\n",
    "print(f\"sample list: {ex_lst}\")\n",
    "rslt_lst = []\n",
    "for i in ex_lst:\n",
    "    rslt_lst.append(i*i)\n",
    "print(f\"squared list: {rslt_lst}\")"
   ]
  },
  {
   "cell_type": "code",
   "execution_count": null,
   "id": "24b9c437",
   "metadata": {},
   "outputs": [],
   "source": [
    "print"
   ]
  },
  {
   "cell_type": "code",
   "execution_count": 78,
   "id": "e376c82b",
   "metadata": {},
   "outputs": [],
   "source": [
    "# print pyrmid of a gien number\n",
    "def print_pyrmid(n):\n",
    "    rows = n\n",
    "    for i in range(1,n+1):\n",
    "        #print(i)\n",
    "        for j in range(i):\n",
    "            print(i,end = ' ')\n",
    "        print()"
   ]
  },
  {
   "cell_type": "code",
   "execution_count": 80,
   "id": "d97cb6d2",
   "metadata": {},
   "outputs": [
    {
     "name": "stdout",
     "output_type": "stream",
     "text": [
      "1 \n",
      "2 2 \n",
      "3 3 3 \n",
      "4 4 4 4 \n",
      "5 5 5 5 5 \n",
      "6 6 6 6 6 6 \n",
      "7 7 7 7 7 7 7 \n",
      "8 8 8 8 8 8 8 8 \n",
      "9 9 9 9 9 9 9 9 9 \n"
     ]
    }
   ],
   "source": [
    "print_pyrmid(9)"
   ]
  },
  {
   "cell_type": "markdown",
   "id": "99e2a217",
   "metadata": {},
   "source": [
    "##### list comprehension "
   ]
  },
  {
   "cell_type": "code",
   "execution_count": 82,
   "id": "54045a9d",
   "metadata": {},
   "outputs": [
    {
     "name": "stdout",
     "output_type": "stream",
     "text": [
      "5\n",
      "10\n",
      "15\n",
      "20\n",
      "25\n",
      "30\n",
      "35\n",
      "40\n",
      "45\n",
      "50\n"
     ]
    }
   ],
   "source": [
    "# print table of 5\n",
    "for i in range(1,11):\n",
    "    print(5*i)"
   ]
  },
  {
   "cell_type": "code",
   "execution_count": 83,
   "id": "3870ab5a",
   "metadata": {},
   "outputs": [
    {
     "data": {
      "text/plain": [
       "[5, 10, 15, 20, 25, 30, 35, 40, 45, 50]"
      ]
     },
     "execution_count": 83,
     "metadata": {},
     "output_type": "execute_result"
    }
   ],
   "source": [
    "[i*5 for i in range(1,11)]"
   ]
  },
  {
   "cell_type": "code",
   "execution_count": 84,
   "id": "2dd3a67d",
   "metadata": {},
   "outputs": [
    {
     "data": {
      "text/plain": [
       "['1 is odd number',\n",
       " '2 is even number',\n",
       " '3 is odd number',\n",
       " '4 is even number',\n",
       " '5 is odd number',\n",
       " '6 is even number',\n",
       " '7 is odd number',\n",
       " '8 is even number',\n",
       " '9 is odd number',\n",
       " '10 is even number',\n",
       " '11 is odd number',\n",
       " '12 is even number',\n",
       " '13 is odd number',\n",
       " '14 is even number',\n",
       " '15 is odd number',\n",
       " '16 is even number',\n",
       " '17 is odd number',\n",
       " '18 is even number',\n",
       " '19 is odd number',\n",
       " '20 is even number']"
      ]
     },
     "execution_count": 84,
     "metadata": {},
     "output_type": "execute_result"
    }
   ],
   "source": [
    "[f'{i} is odd number' if i%2!=0 else f'{i} is even number' for i in range(1,21)]"
   ]
  },
  {
   "cell_type": "code",
   "execution_count": 87,
   "id": "92d73a15",
   "metadata": {},
   "outputs": [
    {
     "name": "stdout",
     "output_type": "stream",
     "text": [
      "[2, 4, 1, 5, 7, 3, 8, 12, 34, 67, 13, 78, 89]\n"
     ]
    },
    {
     "data": {
      "text/plain": [
       "[4, 16, 1, 25, 49, 9, 64, 144, 1156, 4489, 169, 6084, 7921]"
      ]
     },
     "execution_count": 87,
     "metadata": {},
     "output_type": "execute_result"
    }
   ],
   "source": [
    "print(ex_lst)\n",
    "[i*i for i in ex_lst]"
   ]
  },
  {
   "cell_type": "code",
   "execution_count": null,
   "id": "20cf922e",
   "metadata": {},
   "outputs": [],
   "source": []
  },
  {
   "cell_type": "markdown",
   "id": "adc25ee4",
   "metadata": {},
   "source": [
    "### While loop"
   ]
  },
  {
   "cell_type": "code",
   "execution_count": 89,
   "id": "aaefa6f0",
   "metadata": {},
   "outputs": [
    {
     "name": "stdout",
     "output_type": "stream",
     "text": [
      "3\n",
      "30\n",
      "300\n"
     ]
    }
   ],
   "source": [
    "var = 3\n",
    "while var < 301:\n",
    "    print(var)\n",
    "    var = var*10"
   ]
  },
  {
   "cell_type": "code",
   "execution_count": 90,
   "id": "edf50fe1",
   "metadata": {},
   "outputs": [
    {
     "name": "stdout",
     "output_type": "stream",
     "text": [
      "3\n",
      "30\n",
      "300\n",
      "300\n"
     ]
    }
   ],
   "source": [
    "var = 3\n",
    "while var < 601:\n",
    "    print(var)\n",
    "    if var == 300:\n",
    "        print(var)\n",
    "        break\n",
    "    var = var*10"
   ]
  },
  {
   "cell_type": "code",
   "execution_count": 93,
   "id": "774ae6ce",
   "metadata": {},
   "outputs": [
    {
     "name": "stdout",
     "output_type": "stream",
     "text": [
      "30\n",
      "300\n",
      "3000\n"
     ]
    }
   ],
   "source": [
    "var = 3\n",
    "while var < 301: var = var*10 ;print(var)"
   ]
  },
  {
   "cell_type": "code",
   "execution_count": null,
   "id": "a79e1560",
   "metadata": {},
   "outputs": [],
   "source": []
  },
  {
   "cell_type": "markdown",
   "id": "e917410c",
   "metadata": {},
   "source": [
    "## Exception Handling in Python\n",
    "    1. Python Syntax\n",
    "    2. Syntax error vs Exception\n",
    "    3. Try and Except Statement – Catching Exceptions\n",
    "    4. Catching Specific Exception\n",
    "    5. Try with Else Clause\n",
    "    6. Finally Keyword in Python\n",
    "    7. Raising Exception"
   ]
  },
  {
   "cell_type": "markdown",
   "id": "dac1b6d1",
   "metadata": {},
   "source": [
    "<!-- Python Syntax\n",
    "statement:\n",
    "    body1:\n",
    "        body2:\n",
    "            body3\n",
    " -->"
   ]
  },
  {
   "cell_type": "code",
   "execution_count": 21,
   "id": "93ca185a",
   "metadata": {},
   "outputs": [
    {
     "name": "stdout",
     "output_type": "stream",
     "text": [
      "body of if\n"
     ]
    }
   ],
   "source": [
    "# statement1:\n",
    "#     statement1obody:\n",
    "#         statement2body:\n",
    "\n",
    "var = True\n",
    "if var:\n",
    "    print(\"body of if\")\n",
    "else:\n",
    "    print(\"body of else\")"
   ]
  },
  {
   "cell_type": "code",
   "execution_count": 23,
   "id": "d2e9afc9",
   "metadata": {},
   "outputs": [
    {
     "ename": "IndentationError",
     "evalue": "expected an indented block (Temp/ipykernel_15936/2973246132.py, line 4)",
     "output_type": "error",
     "traceback": [
      "\u001b[1;36m  File \u001b[1;32m\"C:\\Users\\Rahul\\AppData\\Local\\Temp/ipykernel_15936/2973246132.py\"\u001b[1;36m, line \u001b[1;32m4\u001b[0m\n\u001b[1;33m    print(\"body of if\")\u001b[0m\n\u001b[1;37m    ^\u001b[0m\n\u001b[1;31mIndentationError\u001b[0m\u001b[1;31m:\u001b[0m expected an indented block\n"
     ]
    }
   ],
   "source": [
    "# IndentationError\n",
    "var = True\n",
    "if var:\n",
    "print(\"body of if\")\n",
    "else:\n",
    "print(\"body of else\")"
   ]
  },
  {
   "cell_type": "code",
   "execution_count": 25,
   "id": "719a76d4",
   "metadata": {},
   "outputs": [
    {
     "ename": "IndentationError",
     "evalue": "expected an indented block (Temp/ipykernel_15936/3897316263.py, line 3)",
     "output_type": "error",
     "traceback": [
      "\u001b[1;36m  File \u001b[1;32m\"C:\\Users\\Rahul\\AppData\\Local\\Temp/ipykernel_15936/3897316263.py\"\u001b[1;36m, line \u001b[1;32m3\u001b[0m\n\u001b[1;33m    print(i)\u001b[0m\n\u001b[1;37m    ^\u001b[0m\n\u001b[1;31mIndentationError\u001b[0m\u001b[1;31m:\u001b[0m expected an indented block\n"
     ]
    }
   ],
   "source": [
    "#Syntax error vs Exception\n",
    "for i in range(10):\n",
    "print(i)"
   ]
  },
  {
   "cell_type": "code",
   "execution_count": 4,
   "id": "07350fb9",
   "metadata": {},
   "outputs": [
    {
     "ename": "ZeroDivisionError",
     "evalue": "division by zero",
     "output_type": "error",
     "traceback": [
      "\u001b[1;31m---------------------------------------------------------------------------\u001b[0m",
      "\u001b[1;31mZeroDivisionError\u001b[0m                         Traceback (most recent call last)",
      "\u001b[1;32m~\\AppData\\Local\\Temp/ipykernel_15936/1230716395.py\u001b[0m in \u001b[0;36m<module>\u001b[1;34m\u001b[0m\n\u001b[0;32m      1\u001b[0m \u001b[1;31m#Syntax error vs Exception\u001b[0m\u001b[1;33m\u001b[0m\u001b[1;33m\u001b[0m\u001b[0m\n\u001b[0;32m      2\u001b[0m \u001b[1;32mfor\u001b[0m \u001b[0mi\u001b[0m \u001b[1;32min\u001b[0m \u001b[0mrange\u001b[0m\u001b[1;33m(\u001b[0m\u001b[1;36m10\u001b[0m\u001b[1;33m)\u001b[0m\u001b[1;33m:\u001b[0m\u001b[1;33m\u001b[0m\u001b[1;33m\u001b[0m\u001b[0m\n\u001b[1;32m----> 3\u001b[1;33m     \u001b[0mprint\u001b[0m\u001b[1;33m(\u001b[0m\u001b[0mi\u001b[0m\u001b[1;33m/\u001b[0m\u001b[1;36m0\u001b[0m\u001b[1;33m)\u001b[0m\u001b[1;33m\u001b[0m\u001b[1;33m\u001b[0m\u001b[0m\n\u001b[0m",
      "\u001b[1;31mZeroDivisionError\u001b[0m: division by zero"
     ]
    }
   ],
   "source": [
    "#Syntax error vs Exception\n",
    "for i in range(10):\n",
    "    print(i/0)"
   ]
  },
  {
   "cell_type": "code",
   "execution_count": 6,
   "id": "a5c84df3",
   "metadata": {},
   "outputs": [
    {
     "name": "stdout",
     "output_type": "stream",
     "text": [
      "Second element = 2\n",
      "An error occurred\n"
     ]
    }
   ],
   "source": [
    "# Python program to handle simple runtime error\n",
    "#Python 3\n",
    "\n",
    "a = [1, 2, 3]\n",
    "try:\n",
    "    print (f\"Second element = {a[1]}\")\n",
    " \n",
    "    # Throws error since there are only 3 elements in array\n",
    "    print (f\"Fourth element = {a[3]}\")\n",
    "except:\n",
    "    print (\"An error occurred\")"
   ]
  },
  {
   "cell_type": "code",
   "execution_count": 37,
   "id": "c8aff3e9",
   "metadata": {},
   "outputs": [
    {
     "name": "stdout",
     "output_type": "stream",
     "text": [
      "Some exception happend\n"
     ]
    }
   ],
   "source": [
    "#Catching Specific Exception\n",
    "\n",
    "try:\n",
    "    # statement(s)\n",
    "    2/0\n",
    "    print (f\"Fourth element = {a[3]}\")\n",
    "    pass\n",
    "except IndexError:\n",
    "    # statement(s)\n",
    "    print(\"IndexError\")\n",
    "    pass\n",
    "except Exception as e:\n",
    "    print(\"Some exception happend\")\n",
    "except ValueError:\n",
    "    # statement(s)\n",
    "    pass"
   ]
  },
  {
   "cell_type": "code",
   "execution_count": 39,
   "id": "3a0be53f",
   "metadata": {},
   "outputs": [
    {
     "name": "stdout",
     "output_type": "stream",
     "text": [
      "ZeroDivisionError Occurred and Handled\n"
     ]
    }
   ],
   "source": [
    "def fun(a):\n",
    "    if a < 4:\n",
    " \n",
    "        # throws ZeroDivisionError for a = 3\n",
    "        b = a/(a-3)\n",
    " \n",
    "    print(\"Value of b = \", b)\n",
    "     \n",
    "try:\n",
    "    fun(3)\n",
    "# note that braces () are necessary here for\n",
    "# multiple exceptions\n",
    "except IndexError:\n",
    "    # statement(s)\n",
    "    print(\"IndexError\")\n",
    "    pass\n",
    "except ZeroDivisionError:\n",
    "    print(\"ZeroDivisionError Occurred and Handled\")\n"
   ]
  },
  {
   "cell_type": "code",
   "execution_count": 15,
   "id": "4bc1cfdf",
   "metadata": {},
   "outputs": [
    {
     "name": "stdout",
     "output_type": "stream",
     "text": [
      "-5.0\n",
      "a/b result in 0\n"
     ]
    }
   ],
   "source": [
    "#### Try with Else Clause\n",
    "# Program to depict else clause with try-except\n",
    "# Python 3\n",
    "# Function which returns a/b\n",
    "#### if exception doesn't occur then only the else block will be executed else except block will be executed.####\n",
    "def AbyB(a , b):\n",
    "    try:\n",
    "        c = ((a+b) / (a-b))\n",
    "    except ZeroDivisionError:\n",
    "        print (\"a/b result in 0\")\n",
    "    # if no else is used, then starting this line everything will be executed wheather or not exception occured.\n",
    "    else:\n",
    "        # with this block we can confirm that exception has not occured and can write specific logic, like data update.\n",
    "        print (c)\n",
    "\n",
    "# Driver program to test above function\n",
    "AbyB(2.0, 3.0)\n",
    "AbyB(3.0, 3.0)"
   ]
  },
  {
   "cell_type": "markdown",
   "id": "9ff9b96d",
   "metadata": {},
   "source": [
    "* Summary of Try Except blocks\n",
    "    1. Try can have more than 1 except block which will be executed only if exception occure's.\n",
    "    2. Try can have only 1 else block which will be executed only if exception doesn't occure.\n",
    "    3. Try can have only one finally block which be executed weather or not exception has occured.\n",
    "    4. Except block can have try block nested inside it."
   ]
  },
  {
   "cell_type": "code",
   "execution_count": 40,
   "id": "c1ff212f",
   "metadata": {},
   "outputs": [],
   "source": [
    "# Finally Keyword in Python\n",
    "try:\n",
    "    # Some Code.... \n",
    "    pass\n",
    "except:\n",
    "    # optional block\n",
    "    # Handling of exception (if required)\n",
    "    pass\n",
    "else:\n",
    "    # execute if no exception\n",
    "    pass\n",
    "finally:\n",
    "    # Some code .....(always executed)\n",
    "    pass"
   ]
  },
  {
   "cell_type": "code",
   "execution_count": 41,
   "id": "4f0067a4",
   "metadata": {},
   "outputs": [
    {
     "name": "stdout",
     "output_type": "stream",
     "text": [
      "Can't divide by zero\n",
      "This is always executed\n"
     ]
    }
   ],
   "source": [
    "# Python program to demonstrate finally\n",
    " \n",
    "# No exception Exception raised in try block\n",
    "try:\n",
    "    k = 5//0  # raises divide by zero exception.\n",
    "    print(k)\n",
    "\n",
    "#handles zerodivision exception\n",
    "except ZeroDivisionError:\n",
    "    print(\"Can't divide by zero\")\n",
    "\n",
    "finally:\n",
    "    # this block is always executed\n",
    "    # regardless of exception generation.\n",
    "    print('This is always executed')"
   ]
  },
  {
   "cell_type": "code",
   "execution_count": 20,
   "id": "23d433a6",
   "metadata": {},
   "outputs": [
    {
     "name": "stdout",
     "output_type": "stream",
     "text": [
      "An exception\n"
     ]
    },
    {
     "ename": "NameError",
     "evalue": "Hi there",
     "output_type": "error",
     "traceback": [
      "\u001b[1;31m---------------------------------------------------------------------------\u001b[0m",
      "\u001b[1;31mNameError\u001b[0m                                 Traceback (most recent call last)",
      "\u001b[1;32m~\\AppData\\Local\\Temp/ipykernel_15936/4196227551.py\u001b[0m in \u001b[0;36m<module>\u001b[1;34m\u001b[0m\n\u001b[0;32m      4\u001b[0m \u001b[1;33m\u001b[0m\u001b[0m\n\u001b[0;32m      5\u001b[0m \u001b[1;32mtry\u001b[0m\u001b[1;33m:\u001b[0m\u001b[1;33m\u001b[0m\u001b[1;33m\u001b[0m\u001b[0m\n\u001b[1;32m----> 6\u001b[1;33m     \u001b[1;32mraise\u001b[0m \u001b[0mNameError\u001b[0m\u001b[1;33m(\u001b[0m\u001b[1;34m\"Hi there\"\u001b[0m\u001b[1;33m)\u001b[0m  \u001b[1;31m# Raise Error\u001b[0m\u001b[1;33m\u001b[0m\u001b[1;33m\u001b[0m\u001b[0m\n\u001b[0m\u001b[0;32m      7\u001b[0m \u001b[1;32mexcept\u001b[0m \u001b[0mNameError\u001b[0m\u001b[1;33m:\u001b[0m\u001b[1;33m\u001b[0m\u001b[1;33m\u001b[0m\u001b[0m\n\u001b[0;32m      8\u001b[0m     \u001b[0mprint\u001b[0m \u001b[1;33m(\u001b[0m\u001b[1;34m\"An exception\"\u001b[0m\u001b[1;33m)\u001b[0m\u001b[1;33m\u001b[0m\u001b[1;33m\u001b[0m\u001b[0m\n",
      "\u001b[1;31mNameError\u001b[0m: Hi there"
     ]
    }
   ],
   "source": [
    "## Raising Exception\n",
    "\n",
    "# Program to depict Raising Exception\n",
    " \n",
    "try:\n",
    "    raise NameError(\"Hi there\")  # Raise Error\n",
    "except NameError:\n",
    "    print (\"An exception\")\n",
    "    raise  # To determine whether the exception was raised or not"
   ]
  },
  {
   "cell_type": "markdown",
   "id": "0319d8a2",
   "metadata": {},
   "source": [
    "## Functions and Modules"
   ]
  },
  {
   "cell_type": "markdown",
   "id": "dedca6fd",
   "metadata": {},
   "source": [
    " - Sub-Topics:\n",
    "        1- Variables\n",
    "        2- Functions\n",
    "        3- Classes\n",
    "        4- Modules\n",
    "        5-Package"
   ]
  },
  {
   "cell_type": "code",
   "execution_count": 43,
   "id": "3790a660",
   "metadata": {},
   "outputs": [],
   "source": [
    "# variables\n",
    "var1 = 4\n",
    "var2 = 5\n",
    "var3 = \"Vibha\"\n",
    "var4 = True"
   ]
  },
  {
   "cell_type": "code",
   "execution_count": 49,
   "id": "81fc40a9",
   "metadata": {},
   "outputs": [
    {
     "data": {
      "text/plain": [
       "4"
      ]
     },
     "execution_count": 49,
     "metadata": {},
     "output_type": "execute_result"
    }
   ],
   "source": [
    "def functionname( parameters ):\n",
    "    \"\"\"function_docstring\"\"\"\n",
    "    #function_suite\n",
    "    return parameters\n",
    "functionname(4)"
   ]
  },
  {
   "cell_type": "code",
   "execution_count": 45,
   "id": "a7d92f08",
   "metadata": {},
   "outputs": [
    {
     "name": "stdout",
     "output_type": "stream",
     "text": [
      "Vibha\n"
     ]
    }
   ],
   "source": [
    "def print_name(): # defining function\n",
    "    print(var3)\n",
    "print_name() # calling the function which is already defined"
   ]
  },
  {
   "cell_type": "code",
   "execution_count": null,
   "id": "d41518c6",
   "metadata": {},
   "outputs": [],
   "source": []
  },
  {
   "cell_type": "markdown",
   "id": "6b5eb697",
   "metadata": {},
   "source": [
    "    -> Package\n",
    "        -> Modules\n",
    "            -> Classes\n",
    "                -> Functions\n",
    "                    -> Variables and Data"
   ]
  },
  {
   "cell_type": "markdown",
   "id": "a5b78297",
   "metadata": {},
   "source": [
    "The module contains — 1) definitions and implementation of classes 2) variables and 3) functions that can be used inside another program."
   ]
  },
  {
   "attachments": {
    "image.png": {
     "image/png": "[encoded data removed]"
    }
   },
   "cell_type": "markdown",
   "id": "1a340157",
   "metadata": {},
   "source": [
    "![image.png](attachment:image.png)"
   ]
  },
  {
   "cell_type": "code",
   "execution_count": null,
   "id": "8428383e",
   "metadata": {},
   "outputs": [],
   "source": []
  }
 ],
 "metadata": {
  "kernelspec": {
   "display_name": "Python 3 (ipykernel)",
   "language": "python",
   "name": "python3"
  },
  "language_info": {
   "codemirror_mode": {
    "name": "ipython",
    "version": 3
   },
   "file_extension": ".py",
   "mimetype": "text/x-python",
   "name": "python",
   "nbconvert_exporter": "python",
   "pygments_lexer": "ipython3",
   "version": "3.9.7"
  }
 },
 "nbformat": 4,
 "nbformat_minor": 5
}
