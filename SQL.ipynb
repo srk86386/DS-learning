{
 "cells": [
  {
   "cell_type": "markdown",
   "id": "84d8f4e4-04cc-405c-9c8e-739cb1650124",
   "metadata": {},
   "source": [
    "# SQL"
   ]
  },
  {
   "cell_type": "markdown",
   "id": "b95987c5-3dab-46bc-a2d9-39612b966767",
   "metadata": {
    "tags": []
   },
   "source": [
    "### Sequence of SQL statement (for writing)\n",
    ">Select\n",
    "\n",
    ">From\n",
    "\n",
    ">join\n",
    "\n",
    ">where\n",
    "\n",
    ">group by\n",
    "\n",
    ">having\n",
    "\n",
    ">order by/ sort by\n",
    "\n",
    ">limit"
   ]
  },
  {
   "cell_type": "markdown",
   "id": "6e509370-14d5-49cc-9c86-c13285711ba2",
   "metadata": {},
   "source": [
    "### Sequence of SQL query by execution\n",
    "> From\n",
    "\n",
    "> Join\n",
    "\n",
    "> where\n",
    "\n",
    "> group by\n",
    "\n",
    "> having\n",
    "\n",
    "> order by\n",
    "\n",
    "> limit\n",
    "\n",
    "> select"
   ]
  },
  {
   "cell_type": "markdown",
   "id": "da225ff5-6295-476d-bf3e-f3303498936b",
   "metadata": {},
   "source": [
    "### Clauses\n",
    "\n",
    "#### Select: \n",
    "    > to select columns from table/tables\n",
    "    > to perform different operations on columns\n",
    "    > to get summary of data by count or aggregations\n",
    "#### From:\n",
    "    > to mention the table name from which the columns need to be fetched\n",
    "#### Join:\n",
    "    > to join 2 or more tables in different ways\n",
    "#### Where:\n",
    "    > To filter in or filter out the records based on different conditions.\n",
    "#### Group by:\n",
    "    > to group records on different feature values\n",
    "    > like grouping emplyees by department\n",
    "#### Having:\n",
    "    > felter in or out the groups created using group by.\n",
    "#### Order by:\n",
    "    > to order/ sort the result based on column or list of columns by ascending or descending order\n",
    "#### Limit: \n",
    "    >To limit the number of records in resultset"
   ]
  },
  {
   "cell_type": "code",
   "execution_count": 2,
   "id": "b8897089-21ae-4809-84af-b5db6ab471b0",
   "metadata": {
    "tags": []
   },
   "outputs": [
    {
     "name": "stdout",
     "output_type": "stream",
     "text": [
      "23/04/02 01:39:04 WARN Utils: Your hostname, confabsol7-Lenovo-ideapad-330-15IKB resolves to a loopback address: 127.0.1.1; using 192.168.1.36 instead (on interface wlp3s0)\n",
      "23/04/02 01:39:04 WARN Utils: Set SPARK_LOCAL_IP if you need to bind to another address\n"
     ]
    },
    {
     "name": "stderr",
     "output_type": "stream",
     "text": [
      "Setting default log level to \"WARN\".\n",
      "To adjust logging level use sc.setLogLevel(newLevel). For SparkR, use setLogLevel(newLevel).\n"
     ]
    },
    {
     "name": "stdout",
     "output_type": "stream",
     "text": [
      "23/04/02 01:39:08 WARN NativeCodeLoader: Unable to load native-hadoop library for your platform... using builtin-java classes where applicable\n"
     ]
    },
    {
     "name": "stderr",
     "output_type": "stream",
     "text": [
      "                                                                                \r"
     ]
    },
    {
     "name": "stdout",
     "output_type": "stream",
     "text": [
      "+-------+------+---+--------+------+\n",
      "|   name|gender|age|    city|salary|\n",
      "+-------+------+---+--------+------+\n",
      "|  Alice|     F| 25|    pune| 60000|\n",
      "|    Bob|     M| 30|  mumbai| 70000|\n",
      "|Charlie|     M| 35|  mumbai| 80000|\n",
      "|   Dave|     M| 40|    pune| 45000|\n",
      "|    Eve|     F| 45|    pune| 52000|\n",
      "|    Eve|     F| 45|banglore| 52000|\n",
      "|    Eve|     F| 45| chennai| 52000|\n",
      "+-------+------+---+--------+------+\n",
      "\n"
     ]
    }
   ],
   "source": [
    "from pyspark.sql import SparkSession\n",
    "# create a SparkSession\n",
    "spark = SparkSession.builder.appName(\"Pyspark aggregation\").getOrCreate()\n",
    "\n",
    "# Create a sample DataFrame\n",
    "data = [(\"Alice\", \"F\", 25,'pune',60000)\n",
    "        , (\"Bob\", \"M\", 30,'mumbai',70000)\n",
    "        , (\"Charlie\", \"M\", 35,'mumbai',80000)\n",
    "        , (\"Dave\", \"M\", 40,'pune',45000)\n",
    "        , (\"Eve\", \"F\", 45,'pune',52000)\n",
    "        , (\"Eve\", \"F\", 45,'banglore',52000)\n",
    "        , (\"Eve\", \"F\", 45,'chennai',52000)\n",
    "       ]\n",
    "company = [(\"Interface\", \"pune\", 205,1)\n",
    "           , (\"solsoft\", \"mumbai\", 3000,9)\n",
    "           , (\"infosoft\", \"pune\", 6500,15)\n",
    "           , (\"nosoft\", \"pune\", 32000,18)\n",
    "           , (\"prosoft\", \"mumbai\", 25,1)\n",
    "           , (\"prosoft\", \"noida\", 25,1)\n",
    "           , (\"prosoft\", \"delhi\", 25,1)\n",
    "            ]\n",
    "df = spark.createDataFrame(data, [\"name\", \"gender\", \"age\",'city','salary'])\n",
    "df.createOrReplaceTempView(\"employee\")\n",
    "df2 = spark.createDataFrame(company, [\"cname\", \"city\",'employees', 'years'])\n",
    "df2.createOrReplaceTempView(\"companies\")\n",
    "\n",
    "def run_query(q):\n",
    "    spark.sql(q).show()\n",
    "df.show()"
   ]
  },
  {
   "cell_type": "code",
   "execution_count": 3,
   "id": "303908e5-d64b-4e0d-aaa2-aa99c0b45822",
   "metadata": {
    "tags": []
   },
   "outputs": [
    {
     "name": "stdout",
     "output_type": "stream",
     "text": [
      "+-------+------+---+--------+------+\n",
      "|   name|gender|age|    city|salary|\n",
      "+-------+------+---+--------+------+\n",
      "|  Alice|     F| 25|    pune| 60000|\n",
      "|    Bob|     M| 30|  mumbai| 70000|\n",
      "|Charlie|     M| 35|  mumbai| 80000|\n",
      "|   Dave|     M| 40|    pune| 45000|\n",
      "|    Eve|     F| 45|    pune| 52000|\n",
      "|    Eve|     F| 45|banglore| 52000|\n",
      "|    Eve|     F| 45| chennai| 52000|\n",
      "+-------+------+---+--------+------+\n",
      "\n"
     ]
    }
   ],
   "source": [
    "# get all data from employee table\n",
    "run_query(\"select * from employee\")"
   ]
  },
  {
   "cell_type": "code",
   "execution_count": 4,
   "id": "7d02ec44-a0fc-4305-87a1-fc4ac246449f",
   "metadata": {
    "tags": []
   },
   "outputs": [
    {
     "name": "stdout",
     "output_type": "stream",
     "text": [
      "+---------+------+---------+-----+\n",
      "|    cname|  city|employees|years|\n",
      "+---------+------+---------+-----+\n",
      "|Interface|  pune|      205|    1|\n",
      "|  solsoft|mumbai|     3000|    9|\n",
      "| infosoft|  pune|     6500|   15|\n",
      "|   nosoft|  pune|    32000|   18|\n",
      "|  prosoft|mumbai|       25|    1|\n",
      "|  prosoft| noida|       25|    1|\n",
      "|  prosoft| delhi|       25|    1|\n",
      "+---------+------+---------+-----+\n",
      "\n"
     ]
    }
   ],
   "source": [
    "# get all data from compnees table\n",
    "run_query(\"select * from companies\")"
   ]
  },
  {
   "cell_type": "code",
   "execution_count": 31,
   "id": "d8f85206-dbbb-4de0-ab50-67df3a3ec3f2",
   "metadata": {
    "tags": []
   },
   "outputs": [
    {
     "name": "stdout",
     "output_type": "stream",
     "text": [
      "+-------+------+---+------+------+\n",
      "|   name|gender|age|  city|salary|\n",
      "+-------+------+---+------+------+\n",
      "|  Alice|     F| 25|  pune| 60000|\n",
      "|    Bob|     M| 30|mumbai| 70000|\n",
      "|Charlie|     M| 35|mumbai| 80000|\n",
      "|    Eve|     F| 45|  pune| 52000|\n",
      "+-------+------+---+------+------+\n",
      "\n"
     ]
    }
   ],
   "source": [
    "run_query(\"select * from employee where salary > 50000\")"
   ]
  },
  {
   "cell_type": "code",
   "execution_count": 32,
   "id": "1589b9b2-b21e-4a55-ada6-631fe8b63e1c",
   "metadata": {
    "tags": []
   },
   "outputs": [
    {
     "name": "stdout",
     "output_type": "stream",
     "text": [
      "+-------+------+---+------+------+\n",
      "|   name|gender|age|  city|salary|\n",
      "+-------+------+---+------+------+\n",
      "|Charlie|     M| 35|mumbai| 80000|\n",
      "|    Bob|     M| 30|mumbai| 70000|\n",
      "|  Alice|     F| 25|  pune| 60000|\n",
      "|    Eve|     F| 45|  pune| 52000|\n",
      "+-------+------+---+------+------+\n",
      "\n"
     ]
    }
   ],
   "source": [
    "run_query(\"select * from employee where salary > 50000 order by salary desc\")"
   ]
  },
  {
   "cell_type": "code",
   "execution_count": 34,
   "id": "163b4085-e18d-4f6d-8000-b98dbbd5e79f",
   "metadata": {
    "tags": []
   },
   "outputs": [
    {
     "name": "stdout",
     "output_type": "stream",
     "text": [
      "+-----+------+---+----+------+\n",
      "| name|gender|age|city|salary|\n",
      "+-----+------+---+----+------+\n",
      "|Alice|     F| 25|pune| 60000|\n",
      "+-----+------+---+----+------+\n",
      "\n"
     ]
    }
   ],
   "source": [
    "run_query(\"select * from employee where name like 'A%' order by salary desc\")"
   ]
  },
  {
   "cell_type": "code",
   "execution_count": 38,
   "id": "94e73ec6-2af8-4518-b373-30adb814990f",
   "metadata": {
    "tags": []
   },
   "outputs": [
    {
     "name": "stdout",
     "output_type": "stream",
     "text": [
      "+------+--------+\n",
      "|  city|count(1)|\n",
      "+------+--------+\n",
      "|  pune|       3|\n",
      "|mumbai|       2|\n",
      "+------+--------+\n",
      "\n"
     ]
    }
   ],
   "source": [
    "# get all data from employee table\n",
    "run_query(\"select city, count(*) from employee group by city\")"
   ]
  },
  {
   "cell_type": "code",
   "execution_count": 43,
   "id": "45c34092-f020-4527-8cd0-8f58d04b83c3",
   "metadata": {
    "tags": []
   },
   "outputs": [
    {
     "name": "stdout",
     "output_type": "stream",
     "text": [
      "+------+------------------+\n",
      "|  city|          avg(age)|\n",
      "+------+------------------+\n",
      "|  pune|36.666666666666664|\n",
      "|mumbai|              32.5|\n",
      "+------+------------------+\n",
      "\n"
     ]
    }
   ],
   "source": [
    "run_query('select city, avg(age)from employee group by city having avg(age)>32')"
   ]
  },
  {
   "cell_type": "code",
   "execution_count": 52,
   "id": "6d2a5554-165e-48b6-a7a1-589a197f363d",
   "metadata": {
    "tags": []
   },
   "outputs": [
    {
     "name": "stdout",
     "output_type": "stream",
     "text": [
      "+------+------------------+\n",
      "|cities|            avgage|\n",
      "+------+------------------+\n",
      "|  pune|36.666666666666664|\n",
      "+------+------------------+\n",
      "\n"
     ]
    }
   ],
   "source": [
    "run_query(\"\"\"select city cities, avg(age) avgage\n",
    "    from employee ab\n",
    "    group by city \n",
    "    having avg(age)>32\n",
    "    order by 2 desc\n",
    "    limit 1\n",
    "    \"\"\")"
   ]
  },
  {
   "cell_type": "markdown",
   "id": "9c3c3667-b433-4bdb-ab85-2fb312d3de22",
   "metadata": {},
   "source": [
    "#### Joins\n",
    "##### inner: gets only matching records from both tables\n",
    "##### left: gets all records from left table and matching records from right table\n",
    "##### right: gets all records from right table and only matching records from left table\n",
    "##### full: get all data from both table\n",
    "##### cross: performs catesian product on both tables"
   ]
  },
  {
   "cell_type": "code",
   "execution_count": 53,
   "id": "5d522383-9d4c-4429-a0a6-f54057e8d1e0",
   "metadata": {
    "tags": []
   },
   "outputs": [
    {
     "name": "stdout",
     "output_type": "stream",
     "text": [
      "+-------+------+---+------+------+\n",
      "|   name|gender|age|  city|salary|\n",
      "+-------+------+---+------+------+\n",
      "|  Alice|     F| 25|  pune| 60000|\n",
      "|    Bob|     M| 30|mumbai| 70000|\n",
      "|Charlie|     M| 35|mumbai| 80000|\n",
      "|   Dave|     M| 40|  pune| 45000|\n",
      "|    Eve|     F| 45|  pune| 52000|\n",
      "+-------+------+---+------+------+\n",
      "\n"
     ]
    }
   ],
   "source": [
    "run_query(\"select * from employee\")"
   ]
  },
  {
   "cell_type": "code",
   "execution_count": 54,
   "id": "7769d1c3-aa6f-47df-b1e0-2d274ac6c196",
   "metadata": {
    "tags": []
   },
   "outputs": [
    {
     "name": "stdout",
     "output_type": "stream",
     "text": [
      "+---------+------+---------+-----+\n",
      "|    cname|  city|employees|years|\n",
      "+---------+------+---------+-----+\n",
      "|Interface|  pune|      205|    1|\n",
      "|  solsoft|mumbai|     3000|    9|\n",
      "| infosoft|  pune|     6500|   15|\n",
      "|   nosoft|  pune|    32000|   18|\n",
      "|  prosoft|mumbai|       25|    1|\n",
      "+---------+------+---------+-----+\n",
      "\n"
     ]
    }
   ],
   "source": [
    "run_query(\"select * from companies\")"
   ]
  },
  {
   "cell_type": "code",
   "execution_count": 61,
   "id": "8370c220-11f5-47d2-862e-0a9255b40b16",
   "metadata": {
    "tags": []
   },
   "outputs": [
    {
     "name": "stderr",
     "output_type": "stream",
     "text": [
      "[Stage 153:==========================================>              (6 + 2) / 8]\r"
     ]
    },
    {
     "name": "stdout",
     "output_type": "stream",
     "text": [
      "+--------+\n",
      "|count(1)|\n",
      "+--------+\n",
      "|      13|\n",
      "+--------+\n",
      "\n"
     ]
    },
    {
     "name": "stderr",
     "output_type": "stream",
     "text": [
      "                                                                                \r"
     ]
    }
   ],
   "source": [
    "run_query(\"select count(*) from employee a inner join companies b on a.city=b.city\")"
   ]
  },
  {
   "cell_type": "code",
   "execution_count": 62,
   "id": "6925b01a-29c0-4b31-aabb-2617a66a5398",
   "metadata": {
    "tags": []
   },
   "outputs": [
    {
     "name": "stderr",
     "output_type": "stream",
     "text": [
      "                                                                                \r"
     ]
    },
    {
     "name": "stdout",
     "output_type": "stream",
     "text": [
      "+--------+\n",
      "|count(1)|\n",
      "+--------+\n",
      "|      15|\n",
      "+--------+\n",
      "\n"
     ]
    }
   ],
   "source": [
    "run_query(\"select count(*) from employee a left join companies b on a.city=b.city\")"
   ]
  },
  {
   "cell_type": "code",
   "execution_count": 63,
   "id": "b9abc2dd-f381-4ce5-b054-b438b87ffab2",
   "metadata": {
    "tags": []
   },
   "outputs": [
    {
     "name": "stderr",
     "output_type": "stream",
     "text": [
      "                                                                                \r"
     ]
    },
    {
     "name": "stdout",
     "output_type": "stream",
     "text": [
      "+--------+\n",
      "|count(1)|\n",
      "+--------+\n",
      "|      15|\n",
      "+--------+\n",
      "\n"
     ]
    }
   ],
   "source": [
    "run_query(\"select count(*) from employee a right join companies b on a.city=b.city\")"
   ]
  },
  {
   "cell_type": "code",
   "execution_count": 64,
   "id": "177c6660-47a5-46a1-9e4a-8a9b4feb1cf9",
   "metadata": {
    "tags": []
   },
   "outputs": [
    {
     "name": "stderr",
     "output_type": "stream",
     "text": [
      "[Stage 180:=====================>                                   (3 + 5) / 8]\r"
     ]
    },
    {
     "name": "stdout",
     "output_type": "stream",
     "text": [
      "+--------+\n",
      "|count(1)|\n",
      "+--------+\n",
      "|      17|\n",
      "+--------+\n",
      "\n"
     ]
    },
    {
     "name": "stderr",
     "output_type": "stream",
     "text": [
      "                                                                                \r"
     ]
    }
   ],
   "source": [
    "run_query(\"select count(*) from employee a full join companies b on a.city=b.city\")"
   ]
  },
  {
   "cell_type": "code",
   "execution_count": 71,
   "id": "915e1df0-51e1-4c0c-b268-795867adaa95",
   "metadata": {
    "tags": []
   },
   "outputs": [
    {
     "name": "stderr",
     "output_type": "stream",
     "text": [
      "                                                                                \r"
     ]
    },
    {
     "name": "stdout",
     "output_type": "stream",
     "text": [
      "+----+------+---+--------+------+-----+----+---------+-----+\n",
      "|name|gender|age|    city|salary|cname|city|employees|years|\n",
      "+----+------+---+--------+------+-----+----+---------+-----+\n",
      "| Eve|     F| 45|banglore| 52000| null|null|     null| null|\n",
      "| Eve|     F| 45| chennai| 52000| null|null|     null| null|\n",
      "+----+------+---+--------+------+-----+----+---------+-----+\n",
      "\n"
     ]
    }
   ],
   "source": [
    "run_query(\"\"\"select *\n",
    "        from employee a \n",
    "        left join companies b \n",
    "        on a.city=b.city\n",
    "        where b.city is null\n",
    "        \"\"\")"
   ]
  },
  {
   "cell_type": "code",
   "execution_count": 73,
   "id": "5b1cfa2e-bdfa-4cfc-9f9e-51cbd3799c75",
   "metadata": {
    "tags": []
   },
   "outputs": [
    {
     "name": "stderr",
     "output_type": "stream",
     "text": [
      "[Stage 238:======================================================>(63 + 1) / 64]\r"
     ]
    },
    {
     "name": "stdout",
     "output_type": "stream",
     "text": [
      "+--------+\n",
      "|count(1)|\n",
      "+--------+\n",
      "|      49|\n",
      "+--------+\n",
      "\n"
     ]
    },
    {
     "name": "stderr",
     "output_type": "stream",
     "text": [
      "                                                                                \r"
     ]
    }
   ],
   "source": [
    "run_query(\"select count(*) from employee a cross join companies b\")"
   ]
  },
  {
   "cell_type": "markdown",
   "id": "c2a9cc92-ed7d-4f0a-af49-ebcc601db239",
   "metadata": {},
   "source": [
    "### Set operations on tables\n",
    "> Union\n",
    "\n",
    "> Intersaction\n",
    "\n",
    "> Union All\n",
    "\n",
    "> minus"
   ]
  },
  {
   "cell_type": "code",
   "execution_count": 7,
   "id": "57ed4522-d5c0-4162-b5a8-3d3e83c327df",
   "metadata": {
    "tags": []
   },
   "outputs": [
    {
     "name": "stdout",
     "output_type": "stream",
     "text": [
      "+--------+------------------+\n",
      "|    city|       avg(salary)|\n",
      "+--------+------------------+\n",
      "|    pune|52333.333333333336|\n",
      "|  mumbai|           75000.0|\n",
      "|banglore|           52000.0|\n",
      "| chennai|           52000.0|\n",
      "+--------+------------------+\n",
      "\n"
     ]
    }
   ],
   "source": [
    "run_query(\"\"\"select city, avg(salary) from employee group by city\n",
    "            \"\"\")"
   ]
  },
  {
   "cell_type": "code",
   "execution_count": 8,
   "id": "02795d98-e555-46d0-af6f-62e4c882496c",
   "metadata": {
    "tags": []
   },
   "outputs": [
    {
     "name": "stdout",
     "output_type": "stream",
     "text": [
      "+--------+------------------+\n",
      "|    city|          avg(age)|\n",
      "+--------+------------------+\n",
      "|    pune|36.666666666666664|\n",
      "|  mumbai|              32.5|\n",
      "|banglore|              45.0|\n",
      "| chennai|              45.0|\n",
      "+--------+------------------+\n",
      "\n"
     ]
    }
   ],
   "source": [
    "run_query(\"\"\"select city, avg(age) from employee group by city \"\"\")"
   ]
  },
  {
   "cell_type": "code",
   "execution_count": 12,
   "id": "5bbe7958-94f0-4dea-9a03-07f04e1140b1",
   "metadata": {
    "tags": []
   },
   "outputs": [
    {
     "name": "stdout",
     "output_type": "stream",
     "text": [
      "+--------+\n",
      "|    city|\n",
      "+--------+\n",
      "|    pune|\n",
      "|  mumbai|\n",
      "|banglore|\n",
      "| chennai|\n",
      "+--------+\n",
      "\n"
     ]
    }
   ],
   "source": [
    "run_query(\"\"\"select city from employee group by city\n",
    "           union\n",
    "           select city from employee group by city\"\"\")"
   ]
  },
  {
   "cell_type": "code",
   "execution_count": 11,
   "id": "8e12a035-d5a0-4bb3-a6c0-87c06b5f78ab",
   "metadata": {
    "tags": []
   },
   "outputs": [
    {
     "name": "stdout",
     "output_type": "stream",
     "text": [
      "+--------+\n",
      "|    city|\n",
      "+--------+\n",
      "|    pune|\n",
      "|  mumbai|\n",
      "|banglore|\n",
      "| chennai|\n",
      "|    pune|\n",
      "|  mumbai|\n",
      "|banglore|\n",
      "| chennai|\n",
      "+--------+\n",
      "\n"
     ]
    }
   ],
   "source": [
    "run_query(\"\"\"select city from employee group by city\n",
    "           union all\n",
    "           select city from employee group by city\"\"\")"
   ]
  },
  {
   "cell_type": "code",
   "execution_count": 15,
   "id": "e777dc3f-b090-4c47-8ebb-6d09db672828",
   "metadata": {
    "tags": []
   },
   "outputs": [
    {
     "name": "stdout",
     "output_type": "stream",
     "text": [
      "+--------+\n",
      "|    city|\n",
      "+--------+\n",
      "|    pune|\n",
      "|  mumbai|\n",
      "|banglore|\n",
      "| chennai|\n",
      "+--------+\n",
      "\n"
     ]
    }
   ],
   "source": [
    "run_query(\"\"\"select city from employee group by city\n",
    "           intersect\n",
    "           select city from employee group by city\"\"\")"
   ]
  },
  {
   "cell_type": "code",
   "execution_count": 16,
   "id": "5cc72367-d323-4f54-b940-ce25fdc56445",
   "metadata": {
    "tags": []
   },
   "outputs": [
    {
     "name": "stdout",
     "output_type": "stream",
     "text": [
      "+----+\n",
      "|city|\n",
      "+----+\n",
      "+----+\n",
      "\n"
     ]
    }
   ],
   "source": [
    "run_query(\"\"\"select city from employee group by city\n",
    "           minus\n",
    "           select city from employee group by city\"\"\")"
   ]
  },
  {
   "cell_type": "code",
   "execution_count": null,
   "id": "0c704d64-b107-4b59-bb48-a9cb8949fb6d",
   "metadata": {},
   "outputs": [],
   "source": []
  }
 ],
 "metadata": {
  "kernelspec": {
   "display_name": "Python 3 (ipykernel)",
   "language": "python",
   "name": "python3"
  },
  "language_info": {
   "codemirror_mode": {
    "name": "ipython",
    "version": 3
   },
   "file_extension": ".py",
   "mimetype": "text/x-python",
   "name": "python",
   "nbconvert_exporter": "python",
   "pygments_lexer": "ipython3",
   "version": "3.10.6"
  }
 },
 "nbformat": 4,
 "nbformat_minor": 5
}
